{
 "cells": [
  {
   "cell_type": "code",
   "execution_count": 268,
   "metadata": {},
   "outputs": [],
   "source": [
    "import pandas as pd"
   ]
  },
  {
   "cell_type": "code",
   "execution_count": 269,
   "metadata": {},
   "outputs": [],
   "source": [
    "symbol_df=pd.read_excel(r\"C:\\Users\\Gautam Aggarwal\\Desktop\\assignment\\List of Stocks case study (1).xlsx\")"
   ]
  },
  {
   "cell_type": "code",
   "execution_count": 270,
   "metadata": {},
   "outputs": [
    {
     "data": {
      "text/html": [
       "<div>\n",
       "<style scoped>\n",
       "    .dataframe tbody tr th:only-of-type {\n",
       "        vertical-align: middle;\n",
       "    }\n",
       "\n",
       "    .dataframe tbody tr th {\n",
       "        vertical-align: top;\n",
       "    }\n",
       "\n",
       "    .dataframe thead th {\n",
       "        text-align: right;\n",
       "    }\n",
       "</style>\n",
       "<table border=\"1\" class=\"dataframe\">\n",
       "  <thead>\n",
       "    <tr style=\"text-align: right;\">\n",
       "      <th></th>\n",
       "      <th>Stock Name</th>\n",
       "      <th>SYMBOL</th>\n",
       "    </tr>\n",
       "  </thead>\n",
       "  <tbody>\n",
       "    <tr>\n",
       "      <th>0</th>\n",
       "      <td>ACC LIMITED</td>\n",
       "      <td>ACC</td>\n",
       "    </tr>\n",
       "    <tr>\n",
       "      <th>1</th>\n",
       "      <td>ADANI PORT &amp; SEZ LTD</td>\n",
       "      <td>ADANIPORTS</td>\n",
       "    </tr>\n",
       "    <tr>\n",
       "      <th>2</th>\n",
       "      <td>ADANI ENTERPRISES LIMITED</td>\n",
       "      <td>ADANIENT</td>\n",
       "    </tr>\n",
       "    <tr>\n",
       "      <th>3</th>\n",
       "      <td>ADANI POWER LTD</td>\n",
       "      <td>ADANIPOWER</td>\n",
       "    </tr>\n",
       "    <tr>\n",
       "      <th>4</th>\n",
       "      <td>AMBUJA CEMENTS LTD</td>\n",
       "      <td>AMBUJACEM</td>\n",
       "    </tr>\n",
       "  </tbody>\n",
       "</table>\n",
       "</div>"
      ],
      "text/plain": [
       "       Stock Name                        SYMBOL    \n",
       "0  ACC LIMITED                           ACC       \n",
       "1  ADANI PORT & SEZ LTD                  ADANIPORTS\n",
       "2  ADANI ENTERPRISES LIMITED             ADANIENT  \n",
       "3  ADANI POWER LTD                       ADANIPOWER\n",
       "4  AMBUJA CEMENTS LTD                    AMBUJACEM "
      ]
     },
     "execution_count": 270,
     "metadata": {},
     "output_type": "execute_result"
    }
   ],
   "source": [
    "symbol_df.head()"
   ]
  },
  {
   "cell_type": "code",
   "execution_count": 271,
   "metadata": {},
   "outputs": [
    {
     "data": {
      "text/plain": [
       "Index(['Stock Name                      ', 'SYMBOL    '], dtype='object')"
      ]
     },
     "execution_count": 271,
     "metadata": {},
     "output_type": "execute_result"
    }
   ],
   "source": [
    "symbol_df.columns"
   ]
  },
  {
   "cell_type": "code",
   "execution_count": 272,
   "metadata": {},
   "outputs": [],
   "source": [
    "symbol = symbol_df['SYMBOL    '].tolist()\n"
   ]
  },
  {
   "cell_type": "code",
   "execution_count": 273,
   "metadata": {},
   "outputs": [
    {
     "name": "stdout",
     "output_type": "stream",
     "text": [
      "['ACC       ', 'ADANIPORTS', 'ADANIENT  ', 'ADANIPOWER', 'AMBUJACEM ', 'APOLLOHOSP', 'ARVIND    ', 'ASIANPAINT', 'AUROPHARMA', 'BAJFINANCE', 'BALKRISIND', 'BANKBARODA', 'BANKINDIA ', 'BERGEPAINT', 'BHEL      ', 'BAJAJFINSV', 'BOSCHLTD  ', 'CADILAHC  ', 'CENTURYTEX', 'CHOLAFIN  ', 'CUMMINSIND', 'DIVISLAB  ', 'DLF       ', 'ENGINERSIN', 'EQUITAS   ', 'ESCORTS   ', 'FEDERALBNK', 'GODREJCP  ', 'GRASIM    ', 'HAVELLS   ', 'HCLTECH   ', 'BSOFT     ', 'HDFCBANK  ', 'HEXAWARE  ', 'HINDPETRO ', 'CANBK     ', 'HINDZINC  ', 'IDEA      ', 'IDFCFIRSTB', 'CASTROLIND', 'INDIGO    ', 'INDUSINDBK', 'INFY      ', 'IOC       ', 'DHFL      ', 'ITC       ', 'JINDALSTEL', 'EICHERMOT ', 'JSWSTEEL  ', 'JUBLFOOD  ', 'JUSTDIAL  ', 'KOTAKBANK ', 'EXIDEIND  ', 'L&TFH     ', 'LUPIN     ', 'M&M       ', 'GLENMARK  ', 'MARICO    ', 'MCDOWELL-N', 'MCX       ', 'MOTHERSUMI', 'MRF       ', 'MUTHOOTFIN', 'NATIONALUM', 'NCC       ', 'ICICIPRULI', 'NESTLEIND ', 'NTPC      ', 'ONGC      ', 'PAGEIND   ', 'INFRATEL  ', 'PFC       ', 'PIDILITIND', 'PNB       ', 'RAMCOCEM  ', 'RAYMOND   ', 'RECLTD    ', 'RELCAPITAL', 'RELIANCE  ', 'SAIL      ', 'SIEMENS   ', 'SRF       ', 'SRTRANSFIN', 'STAR      ', 'TATAGLOBAL', 'TATAPOWER ', 'TCS       ', 'MGL       ', 'TECHM     ', 'MINDTREE  ', 'TORNTPOWER', 'UBL       ', 'UJJIVAN   ', 'UNIONBANK ', 'UPL       ', 'VEDL      ', 'VOLTAS    ', 'WIPRO     ', 'YESBANK   ', 'AMARAJABAT', 'NIITTECH  ', 'RELINFRA  ', 'APOLLOTYRE', 'AXISBANK  ', 'TITAN     ', 'ASHOKLEY  ', 'BAJAJ-AUTO', 'BATAINDIA ', 'BEL       ', 'BHARATFORG', 'BIOCON    ', 'BPCL      ', 'BRITANNIA ', 'CESC      ', 'CIPLA     ', 'COALINDIA ', 'DABUR     ', 'DISHTV    ', 'GAIL      ', 'GMRINFRA  ', 'HDFC      ', 'HEROMOTOCO', 'CONCOR    ', 'HINDALCO  ', 'DRREDDY   ', 'HINDUNILVR', 'IBULHSGFIN', 'IDBI      ', 'IGL       ', 'MANAPPURAM', 'MFSL      ', 'M&MFIN    ', 'MARUTI    ', 'OFSS      ', 'NMDC      ', 'OIL       ', 'POWERGRID ', 'RBLBANK   ', 'SHREECEM  ', 'SUNPHARMA ', 'TATASTEEL ', 'TATAELXSI ', 'TORNTPHARM', 'TVSMOTOR  ', 'ULTRACEMCO', 'ZEEL      ', 'COLPAL    ', 'ICICIBANK ', 'LICHSGFIN ', 'SBIN      ', 'BHARTIARTL', 'LT        ', 'NBCC      ', 'KAJARIACER', 'PEL       ', 'PETRONET  ', 'PVR       ', 'TATACHEM  ', 'TATAMOTORS', 'TATAMTRDVR', 'SUNTV     ']\n"
     ]
    }
   ],
   "source": [
    "print(symbol)"
   ]
  },
  {
   "cell_type": "markdown",
   "metadata": {},
   "source": [
    "removing space from strings"
   ]
  },
  {
   "cell_type": "code",
   "execution_count": 274,
   "metadata": {},
   "outputs": [],
   "source": [
    "symbol_new = []\n",
    "def remove(string):\n",
    "    symbol_new.append(string.replace(\" \", \"\")) \n",
    "for x in symbol:\n",
    "      remove(x)"
   ]
  },
  {
   "cell_type": "code",
   "execution_count": 275,
   "metadata": {},
   "outputs": [
    {
     "data": {
      "text/plain": [
       "['ACC',\n",
       " 'ADANIPORTS',\n",
       " 'ADANIENT',\n",
       " 'ADANIPOWER',\n",
       " 'AMBUJACEM',\n",
       " 'APOLLOHOSP',\n",
       " 'ARVIND',\n",
       " 'ASIANPAINT',\n",
       " 'AUROPHARMA',\n",
       " 'BAJFINANCE',\n",
       " 'BALKRISIND',\n",
       " 'BANKBARODA',\n",
       " 'BANKINDIA',\n",
       " 'BERGEPAINT',\n",
       " 'BHEL',\n",
       " 'BAJAJFINSV',\n",
       " 'BOSCHLTD',\n",
       " 'CADILAHC',\n",
       " 'CENTURYTEX',\n",
       " 'CHOLAFIN',\n",
       " 'CUMMINSIND',\n",
       " 'DIVISLAB',\n",
       " 'DLF',\n",
       " 'ENGINERSIN',\n",
       " 'EQUITAS',\n",
       " 'ESCORTS',\n",
       " 'FEDERALBNK',\n",
       " 'GODREJCP',\n",
       " 'GRASIM',\n",
       " 'HAVELLS',\n",
       " 'HCLTECH',\n",
       " 'BSOFT',\n",
       " 'HDFCBANK',\n",
       " 'HEXAWARE',\n",
       " 'HINDPETRO',\n",
       " 'CANBK',\n",
       " 'HINDZINC',\n",
       " 'IDEA',\n",
       " 'IDFCFIRSTB',\n",
       " 'CASTROLIND',\n",
       " 'INDIGO',\n",
       " 'INDUSINDBK',\n",
       " 'INFY',\n",
       " 'IOC',\n",
       " 'DHFL',\n",
       " 'ITC',\n",
       " 'JINDALSTEL',\n",
       " 'EICHERMOT',\n",
       " 'JSWSTEEL',\n",
       " 'JUBLFOOD',\n",
       " 'JUSTDIAL',\n",
       " 'KOTAKBANK',\n",
       " 'EXIDEIND',\n",
       " 'L&TFH',\n",
       " 'LUPIN',\n",
       " 'M&M',\n",
       " 'GLENMARK',\n",
       " 'MARICO',\n",
       " 'MCDOWELL-N',\n",
       " 'MCX',\n",
       " 'MOTHERSUMI',\n",
       " 'MRF',\n",
       " 'MUTHOOTFIN',\n",
       " 'NATIONALUM',\n",
       " 'NCC',\n",
       " 'ICICIPRULI',\n",
       " 'NESTLEIND',\n",
       " 'NTPC',\n",
       " 'ONGC',\n",
       " 'PAGEIND',\n",
       " 'INFRATEL',\n",
       " 'PFC',\n",
       " 'PIDILITIND',\n",
       " 'PNB',\n",
       " 'RAMCOCEM',\n",
       " 'RAYMOND',\n",
       " 'RECLTD',\n",
       " 'RELCAPITAL',\n",
       " 'RELIANCE',\n",
       " 'SAIL',\n",
       " 'SIEMENS',\n",
       " 'SRF',\n",
       " 'SRTRANSFIN',\n",
       " 'STAR',\n",
       " 'TATAGLOBAL',\n",
       " 'TATAPOWER',\n",
       " 'TCS',\n",
       " 'MGL',\n",
       " 'TECHM',\n",
       " 'MINDTREE',\n",
       " 'TORNTPOWER',\n",
       " 'UBL',\n",
       " 'UJJIVAN',\n",
       " 'UNIONBANK',\n",
       " 'UPL',\n",
       " 'VEDL',\n",
       " 'VOLTAS',\n",
       " 'WIPRO',\n",
       " 'YESBANK',\n",
       " 'AMARAJABAT',\n",
       " 'NIITTECH',\n",
       " 'RELINFRA',\n",
       " 'APOLLOTYRE',\n",
       " 'AXISBANK',\n",
       " 'TITAN',\n",
       " 'ASHOKLEY',\n",
       " 'BAJAJ-AUTO',\n",
       " 'BATAINDIA',\n",
       " 'BEL',\n",
       " 'BHARATFORG',\n",
       " 'BIOCON',\n",
       " 'BPCL',\n",
       " 'BRITANNIA',\n",
       " 'CESC',\n",
       " 'CIPLA',\n",
       " 'COALINDIA',\n",
       " 'DABUR',\n",
       " 'DISHTV',\n",
       " 'GAIL',\n",
       " 'GMRINFRA',\n",
       " 'HDFC',\n",
       " 'HEROMOTOCO',\n",
       " 'CONCOR',\n",
       " 'HINDALCO',\n",
       " 'DRREDDY',\n",
       " 'HINDUNILVR',\n",
       " 'IBULHSGFIN',\n",
       " 'IDBI',\n",
       " 'IGL',\n",
       " 'MANAPPURAM',\n",
       " 'MFSL',\n",
       " 'M&MFIN',\n",
       " 'MARUTI',\n",
       " 'OFSS',\n",
       " 'NMDC',\n",
       " 'OIL',\n",
       " 'POWERGRID',\n",
       " 'RBLBANK',\n",
       " 'SHREECEM',\n",
       " 'SUNPHARMA',\n",
       " 'TATASTEEL',\n",
       " 'TATAELXSI',\n",
       " 'TORNTPHARM',\n",
       " 'TVSMOTOR',\n",
       " 'ULTRACEMCO',\n",
       " 'ZEEL',\n",
       " 'COLPAL',\n",
       " 'ICICIBANK',\n",
       " 'LICHSGFIN',\n",
       " 'SBIN',\n",
       " 'BHARTIARTL',\n",
       " 'LT',\n",
       " 'NBCC',\n",
       " 'KAJARIACER',\n",
       " 'PEL',\n",
       " 'PETRONET',\n",
       " 'PVR',\n",
       " 'TATACHEM',\n",
       " 'TATAMOTORS',\n",
       " 'TATAMTRDVR',\n",
       " 'SUNTV']"
      ]
     },
     "execution_count": 275,
     "metadata": {},
     "output_type": "execute_result"
    }
   ],
   "source": [
    "symbol_new"
   ]
  },
  {
   "cell_type": "markdown",
   "metadata": {},
   "source": [
    "fetching previous data of 3 months of each symbol/stock\n"
   ]
  },
  {
   "cell_type": "code",
   "execution_count": 282,
   "metadata": {},
   "outputs": [],
   "source": [
    "symbol=symbol_new\n",
    "import datetime\n",
    "from nsepy import get_history\n",
    "#for 3 months \n",
    "start = datetime.datetime(2021,7,6)\n",
    "end = datetime.datetime(2021,10,6)\n",
    "data={}\n",
    "for s in symbol:\n",
    "    data[s]=get_history(s,start=start,end=end)"
   ]
  },
  {
   "cell_type": "markdown",
   "metadata": {},
   "source": [
    "first predicting close value for one symbol ,later will do for each symbol"
   ]
  },
  {
   "cell_type": "code",
   "execution_count": 283,
   "metadata": {},
   "outputs": [
    {
     "data": {
      "text/html": [
       "<div>\n",
       "<style scoped>\n",
       "    .dataframe tbody tr th:only-of-type {\n",
       "        vertical-align: middle;\n",
       "    }\n",
       "\n",
       "    .dataframe tbody tr th {\n",
       "        vertical-align: top;\n",
       "    }\n",
       "\n",
       "    .dataframe thead th {\n",
       "        text-align: right;\n",
       "    }\n",
       "</style>\n",
       "<table border=\"1\" class=\"dataframe\">\n",
       "  <thead>\n",
       "    <tr style=\"text-align: right;\">\n",
       "      <th></th>\n",
       "      <th>Symbol</th>\n",
       "      <th>Series</th>\n",
       "      <th>Prev Close</th>\n",
       "      <th>Open</th>\n",
       "      <th>High</th>\n",
       "      <th>Low</th>\n",
       "      <th>Last</th>\n",
       "      <th>Close</th>\n",
       "      <th>VWAP</th>\n",
       "      <th>Volume</th>\n",
       "      <th>Turnover</th>\n",
       "      <th>Trades</th>\n",
       "      <th>Deliverable Volume</th>\n",
       "      <th>%Deliverble</th>\n",
       "    </tr>\n",
       "    <tr>\n",
       "      <th>Date</th>\n",
       "      <th></th>\n",
       "      <th></th>\n",
       "      <th></th>\n",
       "      <th></th>\n",
       "      <th></th>\n",
       "      <th></th>\n",
       "      <th></th>\n",
       "      <th></th>\n",
       "      <th></th>\n",
       "      <th></th>\n",
       "      <th></th>\n",
       "      <th></th>\n",
       "      <th></th>\n",
       "      <th></th>\n",
       "    </tr>\n",
       "  </thead>\n",
       "  <tbody>\n",
       "    <tr>\n",
       "      <th>2021-07-06</th>\n",
       "      <td>ACC</td>\n",
       "      <td>EQ</td>\n",
       "      <td>1982.75</td>\n",
       "      <td>1987.85</td>\n",
       "      <td>2058.55</td>\n",
       "      <td>1983.05</td>\n",
       "      <td>2022.0</td>\n",
       "      <td>2022.85</td>\n",
       "      <td>2032.85</td>\n",
       "      <td>1171831</td>\n",
       "      <td>2.382160e+14</td>\n",
       "      <td>43567</td>\n",
       "      <td>314069</td>\n",
       "      <td>0.2680</td>\n",
       "    </tr>\n",
       "    <tr>\n",
       "      <th>2021-07-07</th>\n",
       "      <td>ACC</td>\n",
       "      <td>EQ</td>\n",
       "      <td>2022.85</td>\n",
       "      <td>2031.70</td>\n",
       "      <td>2044.45</td>\n",
       "      <td>2012.90</td>\n",
       "      <td>2035.3</td>\n",
       "      <td>2036.55</td>\n",
       "      <td>2029.01</td>\n",
       "      <td>339727</td>\n",
       "      <td>6.893103e+13</td>\n",
       "      <td>36847</td>\n",
       "      <td>134898</td>\n",
       "      <td>0.3971</td>\n",
       "    </tr>\n",
       "    <tr>\n",
       "      <th>2021-07-08</th>\n",
       "      <td>ACC</td>\n",
       "      <td>EQ</td>\n",
       "      <td>2036.55</td>\n",
       "      <td>2041.00</td>\n",
       "      <td>2057.35</td>\n",
       "      <td>2022.00</td>\n",
       "      <td>2027.1</td>\n",
       "      <td>2029.50</td>\n",
       "      <td>2043.36</td>\n",
       "      <td>342553</td>\n",
       "      <td>6.999576e+13</td>\n",
       "      <td>20410</td>\n",
       "      <td>112608</td>\n",
       "      <td>0.3287</td>\n",
       "    </tr>\n",
       "    <tr>\n",
       "      <th>2021-07-09</th>\n",
       "      <td>ACC</td>\n",
       "      <td>EQ</td>\n",
       "      <td>2029.50</td>\n",
       "      <td>2029.50</td>\n",
       "      <td>2040.00</td>\n",
       "      <td>2017.10</td>\n",
       "      <td>2036.0</td>\n",
       "      <td>2037.25</td>\n",
       "      <td>2029.13</td>\n",
       "      <td>174442</td>\n",
       "      <td>3.539655e+13</td>\n",
       "      <td>19668</td>\n",
       "      <td>58168</td>\n",
       "      <td>0.3335</td>\n",
       "    </tr>\n",
       "    <tr>\n",
       "      <th>2021-07-12</th>\n",
       "      <td>ACC</td>\n",
       "      <td>EQ</td>\n",
       "      <td>2037.25</td>\n",
       "      <td>2042.50</td>\n",
       "      <td>2087.00</td>\n",
       "      <td>2042.50</td>\n",
       "      <td>2072.2</td>\n",
       "      <td>2072.30</td>\n",
       "      <td>2072.35</td>\n",
       "      <td>770557</td>\n",
       "      <td>1.596868e+14</td>\n",
       "      <td>32885</td>\n",
       "      <td>245957</td>\n",
       "      <td>0.3192</td>\n",
       "    </tr>\n",
       "  </tbody>\n",
       "</table>\n",
       "</div>"
      ],
      "text/plain": [
       "           Symbol Series  Prev Close     Open     High      Low    Last  \\\n",
       "Date                                                                      \n",
       "2021-07-06    ACC     EQ     1982.75  1987.85  2058.55  1983.05  2022.0   \n",
       "2021-07-07    ACC     EQ     2022.85  2031.70  2044.45  2012.90  2035.3   \n",
       "2021-07-08    ACC     EQ     2036.55  2041.00  2057.35  2022.00  2027.1   \n",
       "2021-07-09    ACC     EQ     2029.50  2029.50  2040.00  2017.10  2036.0   \n",
       "2021-07-12    ACC     EQ     2037.25  2042.50  2087.00  2042.50  2072.2   \n",
       "\n",
       "              Close     VWAP   Volume      Turnover  Trades  \\\n",
       "Date                                                          \n",
       "2021-07-06  2022.85  2032.85  1171831  2.382160e+14   43567   \n",
       "2021-07-07  2036.55  2029.01   339727  6.893103e+13   36847   \n",
       "2021-07-08  2029.50  2043.36   342553  6.999576e+13   20410   \n",
       "2021-07-09  2037.25  2029.13   174442  3.539655e+13   19668   \n",
       "2021-07-12  2072.30  2072.35   770557  1.596868e+14   32885   \n",
       "\n",
       "            Deliverable Volume  %Deliverble  \n",
       "Date                                         \n",
       "2021-07-06              314069       0.2680  \n",
       "2021-07-07              134898       0.3971  \n",
       "2021-07-08              112608       0.3287  \n",
       "2021-07-09               58168       0.3335  \n",
       "2021-07-12              245957       0.3192  "
      ]
     },
     "execution_count": 283,
     "metadata": {},
     "output_type": "execute_result"
    }
   ],
   "source": [
    "data[\"ACC\"].head()"
   ]
  },
  {
   "cell_type": "code",
   "execution_count": 284,
   "metadata": {},
   "outputs": [
    {
     "data": {
      "text/plain": [
       "Index(['Symbol', 'Series', 'Prev Close', 'Open', 'High', 'Low', 'Last',\n",
       "       'Close', 'VWAP', 'Volume', 'Turnover', 'Trades', 'Deliverable Volume',\n",
       "       '%Deliverble'],\n",
       "      dtype='object')"
      ]
     },
     "execution_count": 284,
     "metadata": {},
     "output_type": "execute_result"
    }
   ],
   "source": [
    "data[\"ACC\"].columns"
   ]
  },
  {
   "cell_type": "code",
   "execution_count": 285,
   "metadata": {},
   "outputs": [
    {
     "name": "stdout",
     "output_type": "stream",
     "text": [
      "            Prev Close     Open     High      Low    Last     VWAP   Volume  \\\n",
      "Date                                                                          \n",
      "2021-07-06     1982.75  1987.85  2058.55  1983.05  2022.0  2032.85  1171831   \n",
      "2021-07-07     2022.85  2031.70  2044.45  2012.90  2035.3  2029.01   339727   \n",
      "2021-07-08     2036.55  2041.00  2057.35  2022.00  2027.1  2043.36   342553   \n",
      "2021-07-09     2029.50  2029.50  2040.00  2017.10  2036.0  2029.13   174442   \n",
      "2021-07-12     2037.25  2042.50  2087.00  2042.50  2072.2  2072.35   770557   \n",
      "\n",
      "                Turnover  Trades  Deliverable Volume  %Deliverble  \n",
      "Date                                                               \n",
      "2021-07-06  2.382160e+14   43567              314069       0.2680  \n",
      "2021-07-07  6.893103e+13   36847              134898       0.3971  \n",
      "2021-07-08  6.999576e+13   20410              112608       0.3287  \n",
      "2021-07-09  3.539655e+13   19668               58168       0.3335  \n",
      "2021-07-12  1.596868e+14   32885              245957       0.3192  \n"
     ]
    }
   ],
   "source": [
    "X1 = data[\"ACC\"].iloc[:,2:7 ]\n",
    "X2 = data[\"ACC\"].iloc[:,8: ]\n",
    "X = pd.concat([X1,X2], axis=1)\n",
    "print(X.head())"
   ]
  },
  {
   "cell_type": "code",
   "execution_count": 286,
   "metadata": {},
   "outputs": [
    {
     "data": {
      "text/html": [
       "<div>\n",
       "<style scoped>\n",
       "    .dataframe tbody tr th:only-of-type {\n",
       "        vertical-align: middle;\n",
       "    }\n",
       "\n",
       "    .dataframe tbody tr th {\n",
       "        vertical-align: top;\n",
       "    }\n",
       "\n",
       "    .dataframe thead th {\n",
       "        text-align: right;\n",
       "    }\n",
       "</style>\n",
       "<table border=\"1\" class=\"dataframe\">\n",
       "  <thead>\n",
       "    <tr style=\"text-align: right;\">\n",
       "      <th></th>\n",
       "      <th>Prev Close</th>\n",
       "      <th>Open</th>\n",
       "      <th>High</th>\n",
       "      <th>Low</th>\n",
       "      <th>Last</th>\n",
       "      <th>VWAP</th>\n",
       "      <th>Volume</th>\n",
       "      <th>Turnover</th>\n",
       "      <th>Trades</th>\n",
       "      <th>Deliverable Volume</th>\n",
       "      <th>%Deliverble</th>\n",
       "    </tr>\n",
       "    <tr>\n",
       "      <th>Date</th>\n",
       "      <th></th>\n",
       "      <th></th>\n",
       "      <th></th>\n",
       "      <th></th>\n",
       "      <th></th>\n",
       "      <th></th>\n",
       "      <th></th>\n",
       "      <th></th>\n",
       "      <th></th>\n",
       "      <th></th>\n",
       "      <th></th>\n",
       "    </tr>\n",
       "  </thead>\n",
       "  <tbody>\n",
       "    <tr>\n",
       "      <th>2021-07-06</th>\n",
       "      <td>1982.75</td>\n",
       "      <td>1987.85</td>\n",
       "      <td>2058.55</td>\n",
       "      <td>1983.05</td>\n",
       "      <td>2022.0</td>\n",
       "      <td>2032.85</td>\n",
       "      <td>1171831</td>\n",
       "      <td>2.382160e+14</td>\n",
       "      <td>43567</td>\n",
       "      <td>314069</td>\n",
       "      <td>0.2680</td>\n",
       "    </tr>\n",
       "    <tr>\n",
       "      <th>2021-07-07</th>\n",
       "      <td>2022.85</td>\n",
       "      <td>2031.70</td>\n",
       "      <td>2044.45</td>\n",
       "      <td>2012.90</td>\n",
       "      <td>2035.3</td>\n",
       "      <td>2029.01</td>\n",
       "      <td>339727</td>\n",
       "      <td>6.893103e+13</td>\n",
       "      <td>36847</td>\n",
       "      <td>134898</td>\n",
       "      <td>0.3971</td>\n",
       "    </tr>\n",
       "    <tr>\n",
       "      <th>2021-07-08</th>\n",
       "      <td>2036.55</td>\n",
       "      <td>2041.00</td>\n",
       "      <td>2057.35</td>\n",
       "      <td>2022.00</td>\n",
       "      <td>2027.1</td>\n",
       "      <td>2043.36</td>\n",
       "      <td>342553</td>\n",
       "      <td>6.999576e+13</td>\n",
       "      <td>20410</td>\n",
       "      <td>112608</td>\n",
       "      <td>0.3287</td>\n",
       "    </tr>\n",
       "    <tr>\n",
       "      <th>2021-07-09</th>\n",
       "      <td>2029.50</td>\n",
       "      <td>2029.50</td>\n",
       "      <td>2040.00</td>\n",
       "      <td>2017.10</td>\n",
       "      <td>2036.0</td>\n",
       "      <td>2029.13</td>\n",
       "      <td>174442</td>\n",
       "      <td>3.539655e+13</td>\n",
       "      <td>19668</td>\n",
       "      <td>58168</td>\n",
       "      <td>0.3335</td>\n",
       "    </tr>\n",
       "    <tr>\n",
       "      <th>2021-07-12</th>\n",
       "      <td>2037.25</td>\n",
       "      <td>2042.50</td>\n",
       "      <td>2087.00</td>\n",
       "      <td>2042.50</td>\n",
       "      <td>2072.2</td>\n",
       "      <td>2072.35</td>\n",
       "      <td>770557</td>\n",
       "      <td>1.596868e+14</td>\n",
       "      <td>32885</td>\n",
       "      <td>245957</td>\n",
       "      <td>0.3192</td>\n",
       "    </tr>\n",
       "  </tbody>\n",
       "</table>\n",
       "</div>"
      ],
      "text/plain": [
       "            Prev Close     Open     High      Low    Last     VWAP   Volume  \\\n",
       "Date                                                                          \n",
       "2021-07-06     1982.75  1987.85  2058.55  1983.05  2022.0  2032.85  1171831   \n",
       "2021-07-07     2022.85  2031.70  2044.45  2012.90  2035.3  2029.01   339727   \n",
       "2021-07-08     2036.55  2041.00  2057.35  2022.00  2027.1  2043.36   342553   \n",
       "2021-07-09     2029.50  2029.50  2040.00  2017.10  2036.0  2029.13   174442   \n",
       "2021-07-12     2037.25  2042.50  2087.00  2042.50  2072.2  2072.35   770557   \n",
       "\n",
       "                Turnover  Trades  Deliverable Volume  %Deliverble  \n",
       "Date                                                               \n",
       "2021-07-06  2.382160e+14   43567              314069       0.2680  \n",
       "2021-07-07  6.893103e+13   36847              134898       0.3971  \n",
       "2021-07-08  6.999576e+13   20410              112608       0.3287  \n",
       "2021-07-09  3.539655e+13   19668               58168       0.3335  \n",
       "2021-07-12  1.596868e+14   32885              245957       0.3192  "
      ]
     },
     "execution_count": 286,
     "metadata": {},
     "output_type": "execute_result"
    }
   ],
   "source": [
    "X.head()"
   ]
  },
  {
   "cell_type": "code",
   "execution_count": 287,
   "metadata": {},
   "outputs": [],
   "source": [
    "y = data[\"ACC\"][\"Close\"]"
   ]
  },
  {
   "cell_type": "code",
   "execution_count": 288,
   "metadata": {},
   "outputs": [
    {
     "data": {
      "text/plain": [
       "Date\n",
       "2021-07-06    2022.85\n",
       "2021-07-07    2036.55\n",
       "2021-07-08    2029.50\n",
       "2021-07-09    2037.25\n",
       "2021-07-12    2072.30\n",
       "Name: Close, dtype: float64"
      ]
     },
     "execution_count": 288,
     "metadata": {},
     "output_type": "execute_result"
    }
   ],
   "source": [
    "y.head()"
   ]
  },
  {
   "cell_type": "code",
   "execution_count": 289,
   "metadata": {},
   "outputs": [],
   "source": [
    "from sklearn.linear_model import LinearRegression"
   ]
  },
  {
   "cell_type": "code",
   "execution_count": 290,
   "metadata": {},
   "outputs": [],
   "source": [
    "lin_model = LinearRegression()"
   ]
  },
  {
   "cell_type": "code",
   "execution_count": 291,
   "metadata": {},
   "outputs": [
    {
     "data": {
      "text/plain": [
       "LinearRegression()"
      ]
     },
     "execution_count": 291,
     "metadata": {},
     "output_type": "execute_result"
    }
   ],
   "source": [
    "lin_model.fit(X,y)"
   ]
  },
  {
   "cell_type": "code",
   "execution_count": 292,
   "metadata": {},
   "outputs": [
    {
     "data": {
      "text/plain": [
       "0.9989695590030719"
      ]
     },
     "execution_count": 292,
     "metadata": {},
     "output_type": "execute_result"
    }
   ],
   "source": [
    "lin_model.score(X,y)"
   ]
  },
  {
   "cell_type": "code",
   "execution_count": 293,
   "metadata": {},
   "outputs": [],
   "source": [
    "pred=lin_model.predict(X)"
   ]
  },
  {
   "cell_type": "code",
   "execution_count": 294,
   "metadata": {},
   "outputs": [
    {
     "data": {
      "text/plain": [
       "1.0"
      ]
     },
     "execution_count": 294,
     "metadata": {},
     "output_type": "execute_result"
    }
   ],
   "source": [
    "lin_model.score(X,pred)"
   ]
  },
  {
   "cell_type": "code",
   "execution_count": 295,
   "metadata": {},
   "outputs": [
    {
     "data": {
      "text/plain": [
       "array([2021.36105114, 2034.812901  , 2029.11435132, 2034.48476141,\n",
       "       2071.03716579, 2086.02558732, 2075.18525518, 2113.12855298,\n",
       "       2131.81654171, 2159.70066723, 2308.34236497, 2291.72264745,\n",
       "       2340.37627262, 2370.36466206, 2367.96875017, 2388.32180448,\n",
       "       2371.07137414, 2395.33709981, 2424.45614816, 2429.53924877,\n",
       "       2400.70284759, 2392.23391587, 2345.49258359, 2322.657502  ,\n",
       "       2298.25931246, 2269.24774594, 2294.09724932, 2304.30403925,\n",
       "       2296.86412523, 2308.04489999, 2360.17197975, 2284.42640726,\n",
       "       2261.44470656, 2275.64758516, 2271.57020215, 2284.47490954,\n",
       "       2341.6490843 , 2385.59864837, 2409.63636552, 2420.72996924,\n",
       "       2479.28118352, 2467.17041755, 2472.63359505, 2479.33366013,\n",
       "       2443.85220336, 2460.03607268, 2472.3585842 , 2447.60059656,\n",
       "       2463.3118194 , 2429.13371213, 2389.47636994, 2332.9238163 ,\n",
       "       2332.90653368, 2366.35419513, 2352.77339257, 2298.30838255,\n",
       "       2326.71171779, 2303.28293927, 2264.63785311, 2254.99073786,\n",
       "       2239.22463059, 2268.94308946, 2265.37126982, 2205.31194053])"
      ]
     },
     "execution_count": 295,
     "metadata": {},
     "output_type": "execute_result"
    }
   ],
   "source": [
    "pred"
   ]
  },
  {
   "cell_type": "code",
   "execution_count": 296,
   "metadata": {},
   "outputs": [],
   "source": [
    "date =X.index\n",
    "pred=pred.tolist()\n"
   ]
  },
  {
   "cell_type": "code",
   "execution_count": 297,
   "metadata": {},
   "outputs": [],
   "source": [
    "result = pd.DataFrame(zip(date, train_pred),\n",
    "               columns =['date', 'pred_close'])"
   ]
  },
  {
   "cell_type": "code",
   "execution_count": 298,
   "metadata": {},
   "outputs": [
    {
     "data": {
      "text/html": [
       "<div>\n",
       "<style scoped>\n",
       "    .dataframe tbody tr th:only-of-type {\n",
       "        vertical-align: middle;\n",
       "    }\n",
       "\n",
       "    .dataframe tbody tr th {\n",
       "        vertical-align: top;\n",
       "    }\n",
       "\n",
       "    .dataframe thead th {\n",
       "        text-align: right;\n",
       "    }\n",
       "</style>\n",
       "<table border=\"1\" class=\"dataframe\">\n",
       "  <thead>\n",
       "    <tr style=\"text-align: right;\">\n",
       "      <th></th>\n",
       "      <th>date</th>\n",
       "      <th>pred_close</th>\n",
       "    </tr>\n",
       "  </thead>\n",
       "  <tbody>\n",
       "    <tr>\n",
       "      <th>0</th>\n",
       "      <td>2021-07-06</td>\n",
       "      <td>528.539581</td>\n",
       "    </tr>\n",
       "    <tr>\n",
       "      <th>1</th>\n",
       "      <td>2021-07-07</td>\n",
       "      <td>523.641811</td>\n",
       "    </tr>\n",
       "    <tr>\n",
       "      <th>2</th>\n",
       "      <td>2021-07-08</td>\n",
       "      <td>522.479986</td>\n",
       "    </tr>\n",
       "    <tr>\n",
       "      <th>3</th>\n",
       "      <td>2021-07-09</td>\n",
       "      <td>522.092323</td>\n",
       "    </tr>\n",
       "    <tr>\n",
       "      <th>4</th>\n",
       "      <td>2021-07-12</td>\n",
       "      <td>524.062275</td>\n",
       "    </tr>\n",
       "  </tbody>\n",
       "</table>\n",
       "</div>"
      ],
      "text/plain": [
       "         date  pred_close\n",
       "0  2021-07-06  528.539581\n",
       "1  2021-07-07  523.641811\n",
       "2  2021-07-08  522.479986\n",
       "3  2021-07-09  522.092323\n",
       "4  2021-07-12  524.062275"
      ]
     },
     "execution_count": 298,
     "metadata": {},
     "output_type": "execute_result"
    }
   ],
   "source": [
    "result.head()"
   ]
  },
  {
   "cell_type": "code",
   "execution_count": 299,
   "metadata": {},
   "outputs": [],
   "source": [
    "xyz = \"acc\""
   ]
  },
  {
   "cell_type": "code",
   "execution_count": 300,
   "metadata": {},
   "outputs": [],
   "source": [
    "import os\n",
    "result.to_csv(os.path.join(r\"C:\\Users\\Gautam Aggarwal\\Desktop\\assignment\\output\", xyz + \".csv\"),index = False)"
   ]
  },
  {
   "cell_type": "code",
   "execution_count": null,
   "metadata": {},
   "outputs": [],
   "source": []
  },
  {
   "cell_type": "markdown",
   "metadata": {},
   "source": [
    "for all the Symbols "
   ]
  },
  {
   "cell_type": "code",
   "execution_count": 301,
   "metadata": {},
   "outputs": [],
   "source": [
    "import pandas as pd\n",
    "symbol_df=pd.read_excel(r\"C:\\Users\\Gautam Aggarwal\\Desktop\\assignment\\List of Stocks case study (1).xlsx\")\n",
    "symbol = symbol_df['SYMBOL    '].tolist()\n",
    "symbol_new = []\n",
    "def remove(string):\n",
    "    symbol_new.append(string.replace(\" \", \"\")) \n",
    "for x in symbol:\n",
    "      remove(x)\n",
    "symbol=symbol_new\n",
    "import datetime\n",
    "from nsepy import get_history\n",
    "#for 3 months \n",
    "start = datetime.datetime(2021,7,6)\n",
    "end = datetime.datetime(2021,10,6)\n",
    "data={}\n",
    "for s in symbol:\n",
    "    data[s]=get_history(s,start=start,end=end)\n",
    "for z in symbol:\n",
    "    if (data[z].empty == True):\n",
    "        pass\n",
    "    else:\n",
    "        X1 = data[z].iloc[:,2:7 ]\n",
    "        X2 = data[z].iloc[:,8: ]\n",
    "        X = pd.concat([X1,X2], axis=1)\n",
    "        y = data[z][\"Close\"]\n",
    "\n",
    "        from sklearn.linear_model import LinearRegression\n",
    "        lin_model = LinearRegression()\n",
    "        lin_model.fit(X,y)\n",
    "        lin_model.score(X,y)\n",
    "        pred=lin_model.predict(X)\n",
    "        lin_model.score(X,pred)\n",
    "        dateIn =list(X.index)\n",
    "        train_pred=pred.tolist()\n",
    "        result = pd.DataFrame(zip(dateIn, train_pred),\n",
    "                       columns =['date', 'pred_close'])\n",
    "        import os\n",
    "        result.to_csv(os.path.join(r\"C:\\Users\\Gautam Aggarwal\\Desktop\\assignment\\output\", z + \".csv\"),\n",
    "                      index = False)"
   ]
  },
  {
   "cell_type": "code",
   "execution_count": null,
   "metadata": {},
   "outputs": [],
   "source": []
  },
  {
   "cell_type": "code",
   "execution_count": null,
   "metadata": {},
   "outputs": [],
   "source": []
  }
 ],
 "metadata": {
  "kernelspec": {
   "display_name": "Python 3",
   "language": "python",
   "name": "python3"
  },
  "language_info": {
   "codemirror_mode": {
    "name": "ipython",
    "version": 3
   },
   "file_extension": ".py",
   "mimetype": "text/x-python",
   "name": "python",
   "nbconvert_exporter": "python",
   "pygments_lexer": "ipython3",
   "version": "3.7.3"
  }
 },
 "nbformat": 4,
 "nbformat_minor": 2
}
